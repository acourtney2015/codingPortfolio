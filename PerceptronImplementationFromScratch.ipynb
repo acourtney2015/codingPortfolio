{
 "cells": [
  {
   "cell_type": "markdown",
   "metadata": {},
   "source": [
    "##Here I am coding and implementing a Preceptron supervised learning model. The perceptron's biggest disadvantage is that it never converges if the classes are not perfectly linearly separable so you have to impute epochs if one chooses to use it so it eventually stops trying to converge. "
   ]
  },
  {
   "cell_type": "code",
   "execution_count": 84,
   "metadata": {
    "collapsed": true
   },
   "outputs": [],
   "source": [
    "import json\n",
    "import urllib\n",
    "import pandas as pd\n",
    "import numpy as np\n",
    "import xlrd\n",
    "import requests\n",
    "import matplotlib"
   ]
  },
  {
   "cell_type": "code",
   "execution_count": 98,
   "metadata": {
    "collapsed": false
   },
   "outputs": [
    {
     "name": "stdout",
     "output_type": "stream",
     "text": [
      "done\n"
     ]
    }
   ],
   "source": [
    "import numpy as np \n",
    "import sklearn\n",
    "from sklearn.linear_model import Perceptron\n",
    "#eta is the learning rate\n",
    "#is the number of epochs -passes over the training set\n",
    "def __init__(self, eta=0.01, n_iter=10):    \n",
    "        self.eta = eta   \n",
    "        self.n_iter = n_iter  \n",
    "        def fit(self, X, y):     \n",
    "            \"\"\"Fit training data.        Parameters        ----------     \n",
    "X : {array-like}, shape = [n_samples, n_features]      \n",
    "Training vectors, where n_samples   \n",
    "is the number of samples and   \n",
    "n_features is the number of features.   \n",
    "y : array-like, shape = [n_samples]           \n",
    "self : object        \"\"\"    \n",
    "            self.w_ = np.zeros(1 + X.shape[1])   \n",
    "            self.errors_ = []     \n",
    "            for _ in range(self.n_iter):        \n",
    "                errors = 0       \n",
    "                for xi, target in zip(X, y):              \n",
    "                    update = self.eta * (target - self.predict(xi))              \n",
    "                    self.w_[1:] += update * xi          \n",
    "                    self.w_[0] += update            \n",
    "                    errors += int(update != 0.0)      \n",
    "                    self.errors_.append(errors)     \n",
    "                    return self \n",
    "                def net_input(self, X):   \n",
    "                    \"\"\"Calculate net input\"\"\"     \n",
    "                    return np.dot(X, self.w_[1:]) + self.w_[0]  \n",
    "                    def predict(self, X):  \n",
    "                        \"\"\"Return class label after unit step\"\"\"     \n",
    "                        return np.where(self.net_input(X) >= 0.0, 1, -1)\n",
    "                \n",
    "print (\"done\")"
   ]
  },
  {
   "cell_type": "code",
   "execution_count": 86,
   "metadata": {
    "collapsed": false
   },
   "outputs": [
    {
     "data": {
      "text/html": [
       "<div>\n",
       "<table border=\"1\" class=\"dataframe\">\n",
       "  <thead>\n",
       "    <tr style=\"text-align: right;\">\n",
       "      <th></th>\n",
       "      <th>0</th>\n",
       "      <th>1</th>\n",
       "      <th>2</th>\n",
       "      <th>3</th>\n",
       "      <th>4</th>\n",
       "    </tr>\n",
       "  </thead>\n",
       "  <tbody>\n",
       "    <tr>\n",
       "      <th>145</th>\n",
       "      <td>6.7</td>\n",
       "      <td>3.0</td>\n",
       "      <td>5.2</td>\n",
       "      <td>2.3</td>\n",
       "      <td>Iris-virginica</td>\n",
       "    </tr>\n",
       "    <tr>\n",
       "      <th>146</th>\n",
       "      <td>6.3</td>\n",
       "      <td>2.5</td>\n",
       "      <td>5.0</td>\n",
       "      <td>1.9</td>\n",
       "      <td>Iris-virginica</td>\n",
       "    </tr>\n",
       "    <tr>\n",
       "      <th>147</th>\n",
       "      <td>6.5</td>\n",
       "      <td>3.0</td>\n",
       "      <td>5.2</td>\n",
       "      <td>2.0</td>\n",
       "      <td>Iris-virginica</td>\n",
       "    </tr>\n",
       "    <tr>\n",
       "      <th>148</th>\n",
       "      <td>6.2</td>\n",
       "      <td>3.4</td>\n",
       "      <td>5.4</td>\n",
       "      <td>2.3</td>\n",
       "      <td>Iris-virginica</td>\n",
       "    </tr>\n",
       "    <tr>\n",
       "      <th>149</th>\n",
       "      <td>5.9</td>\n",
       "      <td>3.0</td>\n",
       "      <td>5.1</td>\n",
       "      <td>1.8</td>\n",
       "      <td>Iris-virginica</td>\n",
       "    </tr>\n",
       "  </tbody>\n",
       "</table>\n",
       "</div>"
      ],
      "text/plain": [
       "       0    1    2    3               4\n",
       "145  6.7  3.0  5.2  2.3  Iris-virginica\n",
       "146  6.3  2.5  5.0  1.9  Iris-virginica\n",
       "147  6.5  3.0  5.2  2.0  Iris-virginica\n",
       "148  6.2  3.4  5.4  2.3  Iris-virginica\n",
       "149  5.9  3.0  5.1  1.8  Iris-virginica"
      ]
     },
     "execution_count": 86,
     "metadata": {},
     "output_type": "execute_result"
    }
   ],
   "source": [
    "import pandas as pd\n",
    "df = pd.read_csv('https://archive.ics.uci.edu/ml/machine-learning-databases/iris/iris.data', header=None)\n",
    "df.tail()"
   ]
  },
  {
   "cell_type": "markdown",
   "metadata": {},
   "source": [
    "Extracting the first 100 class labels that correspond to the 50 Iris-Setosa and 50 Iris-Versicolor flowers, respectively, and convert the class labels into the two integer class labels 1 (Versicolor) and -1 (Setosa) then assign them to vector y and the pandas DataFrame yields the corresponding NumPy representation. Then extract the first feature column (sepal length) and the third feature column (petal length) of those 100 training samples and assign them to a feature matrix X, which we can visualize using a two-dimensional scatter plot"
   ]
  },
  {
   "cell_type": "code",
   "execution_count": 99,
   "metadata": {
    "collapsed": false
   },
   "outputs": [
    {
     "data": {
      "image/png": "[encoded data removed]",
      "text/plain": [
       "<matplotlib.figure.Figure at 0x10647940>"
      ]
     },
     "metadata": {},
     "output_type": "display_data"
    }
   ],
   "source": [
    "%matplotlib inline\n",
    "import matplotlib.pyplot as plt\n",
    "import numpy as np\n",
    "y = df.iloc[0:100, 4].values\n",
    "y = np.where(y == 'Iris-setosa', -1, 1)\n",
    "X = df.iloc[0:100, [0, 2]].values\n",
    "plt.scatter(X[:50, 0], X[:50, 1],color='red', marker='o', label='setosa')\n",
    "plt.scatter(X[50:100, 0], X[50:100, 1],color='blue', marker='x', label='versicolor')\n",
    "plt.xlabel('petal length')\n",
    "plt.ylabel('sepal length')\n",
    "plt.legend(loc='upper left')\n",
    "plt.show()"
   ]
  },
  {
   "cell_type": "markdown",
   "metadata": {},
   "source": [
    "Now train the perceptron on the data subsets above and report the mean accuracy score"
   ]
  },
  {
   "cell_type": "code",
   "execution_count": 100,
   "metadata": {
    "collapsed": false
   },
   "outputs": [
    {
     "data": {
      "text/plain": [
       "1.0"
      ]
     },
     "execution_count": 100,
     "metadata": {},
     "output_type": "execute_result"
    }
   ],
   "source": [
    "ppn = Perceptron(eta0=0.1, n_iter=10)\n",
    "ppn.fit(X, y)\n",
    "ppn.score(X, y, sample_weight=None)\n",
    "#from sklearn.metrics import accuracy_score\n",
    "#print('Accuracy: %.2f' % accuracy_score(y_test, y_pred))\n"
   ]
  },
  {
   "cell_type": "code",
   "execution_count": 101,
   "metadata": {
    "collapsed": false
   },
   "outputs": [
    {
     "data": {
      "text/plain": [
       "{'alpha': 0.0001,\n",
       " 'class_weight': None,\n",
       " 'eta0': 0.1,\n",
       " 'fit_intercept': True,\n",
       " 'n_iter': 10,\n",
       " 'n_jobs': 1,\n",
       " 'penalty': None,\n",
       " 'random_state': 0,\n",
       " 'shuffle': True,\n",
       " 'verbose': 0,\n",
       " 'warm_start': False}"
      ]
     },
     "execution_count": 101,
     "metadata": {},
     "output_type": "execute_result"
    }
   ],
   "source": [
    "ppn.get_params(deep=True)"
   ]
  },
  {
   "cell_type": "code",
   "execution_count": 102,
   "metadata": {
    "collapsed": false
   },
   "outputs": [
    {
     "data": {
      "text/plain": [
       "array([-0.647, -0.597, -0.599, -0.47 , -0.622, -0.566, -0.522, -0.57 ,\n",
       "       -0.472, -0.545, -0.67 , -0.468, -0.572, -0.603, -0.926, -0.745,\n",
       "       -0.774, -0.647, -0.641, -0.595, -0.566, -0.595, -0.73 , -0.491,\n",
       "       -0.312, -0.518, -0.518, -0.62 , -0.672, -0.443, -0.468, -0.67 ,\n",
       "       -0.62 , -0.747, -0.545, -0.726, -0.799, -0.545, -0.524, -0.595,\n",
       "       -0.674, -0.549, -0.524, -0.518, -0.387, -0.572, -0.543, -0.522,\n",
       "       -0.645, -0.622,  0.594,  0.64 ,  0.723,  0.605,  0.667,  0.815,\n",
       "        0.769,  0.391,  0.642,  0.628,  0.47 ,  0.609,  0.48 ,  0.819,\n",
       "        0.372,  0.513,  0.84 ,  0.582,  0.69 ,  0.528,  0.921,  0.455,\n",
       "        0.873,  0.819,  0.536,  0.538,  0.696,  0.825,  0.74 ,  0.295,\n",
       "        0.501,  0.449,  0.478,  1.052,  0.89 ,  0.74 ,  0.669,  0.613,\n",
       "        0.632,  0.605,  0.813,  0.767,  0.53 ,  0.366,  0.684,  0.659,\n",
       "        0.659,  0.586,  0.185,  0.607])"
      ]
     },
     "execution_count": 102,
     "metadata": {},
     "output_type": "execute_result"
    }
   ],
   "source": [
    "ppn.decision_function(X)"
   ]
  },
  {
   "cell_type": "markdown",
   "metadata": {},
   "source": [
    "The confidence scores which is the diference of that sample to the hyperplane"
   ]
  },
  {
   "cell_type": "code",
   "execution_count": null,
   "metadata": {
    "collapsed": true
   },
   "outputs": [],
   "source": []
  }
 ],
 "metadata": {
  "kernelspec": {
   "display_name": "Python 2",
   "language": "python",
   "name": "python2"
  },
  "language_info": {
   "codemirror_mode": {
    "name": "ipython",
    "version": 2
   },
   "file_extension": ".py",
   "mimetype": "text/x-python",
   "name": "python",
   "nbconvert_exporter": "python",
   "pygments_lexer": "ipython2",
   "version": "2.7.12"
  }
 },
 "nbformat": 4,
 "nbformat_minor": 0
}
