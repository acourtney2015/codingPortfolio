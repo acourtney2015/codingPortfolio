﻿{
 "metadata": {
  "kernelspec": {
   "display_name": "Python 3",
   "language": "python",
   "name": "python3"
  },
  "language_info": {
   "codemirror_mode": {
    "name": "ipython",
    "version": 3
   },
   "file_extension": ".py",
   "mimetype": "text/x-python",
   "name": "python",
   "nbconvert_exporter": "python",
   "pygments_lexer": "ipython3",
   "version": "3.5.2"
  }
 },
 "nbformat": 4,
 "nbformat_minor": 0,
 "cells": [
  {
   "cell_type": "markdown",
   "source": "Notebook to use the ign.csv games data to determine which platform has the most highly rated games using Pandas",
   "metadata": {}
  },
  {
   "cell_type": "code",
   "source": "# This Python 3 environment comes with many helpful analytics libraries installed\n# It is defined by the kaggle/python docker image: https://github.com/kaggle/docker-python\n# For example, here's several helpful packages to load in \n\nimport numpy as np # linear algebra\nimport pandas as pd # data processing, CSV file I/O (e.g. pd.read_csv)\n\n# Input data files are available in the \"../input/\" directory.\n# For example, running this (by clicking run or pressing Shift+Enter) will list the files in the input directory\n\nfrom subprocess import check_output\nprint(check_output([\"ls\", \"../input\"]).decode(\"utf8\"))\n\n# Any results you write to the current directory are saved as output.",
   "execution_count": null,
   "outputs": [],
   "metadata": {}
  },
  {
   "cell_type": "code",
   "source": "import pandas as pd\n\nreviews = pd.read_csv(\"../input/ign.csv\")\nprint (\"ok\")",
   "execution_count": 2,
   "outputs": [],
   "metadata": {}
  },
  {
   "cell_type": "code",
   "source": "reviews.head()",
   "execution_count": 3,
   "outputs": [],
   "metadata": {}
  },
  {
   "cell_type": "markdown",
   "source": "Do games like the Witcher 3 tend to get better reviews on the PS4 than the Xbox One? Worked through this tutorial from dataquest",
   "metadata": {}
  },
  {
   "cell_type": "code",
   "source": "reviews.shape",
   "execution_count": 4,
   "outputs": [],
   "metadata": {}
  },
  {
   "cell_type": "markdown",
   "source": "retrieve rows and columns by position.",
   "metadata": {}
  },
  {
   "cell_type": "code",
   "source": "reviews.iloc[0:5,:]",
   "execution_count": 5,
   "outputs": [],
   "metadata": {}
  },
  {
   "cell_type": "markdown",
   "source": " - reviews.iloc[:5,:] – the first 5 rows, and all of the columns for those rows.\n - reviews.iloc[:,:] – the entire DataFrame.\n - reviews.iloc[5:,5:] – rows from position 5 onwards, and columns from position 5 onwards.\n - reviews.iloc[:,0] – the first column, and all of the rows for the column.\n - reviews.iloc[9,:] – the 10th row, and all of the columns for that row.\n\n ",
   "metadata": {}
  },
  {
   "cell_type": "code",
   "source": "#remove first column\nreviews = reviews.iloc[:,1:]\nreviews.head()",
   "execution_count": 6,
   "outputs": [],
   "metadata": {}
  },
  {
   "cell_type": "code",
   "source": "reviews.loc[0:5,:]",
   "execution_count": 7,
   "outputs": [],
   "metadata": {}
  },
  {
   "cell_type": "code",
   "source": "reviews.index",
   "execution_count": 8,
   "outputs": [],
   "metadata": {}
  },
  {
   "cell_type": "code",
   "source": "some_reviews = reviews.iloc[10:20,]\nsome_reviews.head()",
   "execution_count": 9,
   "outputs": [],
   "metadata": {}
  },
  {
   "cell_type": "code",
   "source": "reviews.loc[:5,\"score\"]",
   "execution_count": 10,
   "outputs": [],
   "metadata": {}
  },
  {
   "cell_type": "code",
   "source": "reviews.loc[:5,[\"score\", \"release_year\"]]",
   "execution_count": 11,
   "outputs": [],
   "metadata": {}
  },
  {
   "cell_type": "code",
   "source": "reviews[[\"score\", \"release_year\"]]",
   "execution_count": 12,
   "outputs": [],
   "metadata": {}
  },
  {
   "cell_type": "markdown",
   "source": "Querying what type of object the data retrieved is composed of: retrieving a single column, we’re actually retrieving a Pandas Series object. A DataFrame stores tabular data, but a Series stores a single column or row of data.",
   "metadata": {}
  },
  {
   "cell_type": "code",
   "source": "type(reviews[\"score\"])",
   "execution_count": 13,
   "outputs": [],
   "metadata": {}
  },
  {
   "cell_type": "code",
   "source": "reviews[\"score\"].mean()",
   "execution_count": 14,
   "outputs": [],
   "metadata": {}
  },
  {
   "cell_type": "code",
   "source": "reviews.mean()",
   "execution_count": 15,
   "outputs": [],
   "metadata": {}
  },
  {
   "cell_type": "markdown",
   "source": " - pandas.DataFrame.corr – finds the correlation between columns in a DataFrame.\n - pandas.DataFrame.count – counts the number of non-null values in each DataFrame column.\n - pandas.DataFrame.max – finds the highest value in each column.\n - pandas.DataFrame.min – finds the lowest value in each column.\n - pandas.DataFrame.median – finds the median of each column.\n - pandas.DataFrame.std – finds the standard deviation of each column.\n\n ",
   "metadata": {}
  },
  {
   "cell_type": "code",
   "source": "reviews.corr()",
   "execution_count": 16,
   "outputs": [],
   "metadata": {}
  },
  {
   "cell_type": "markdown",
   "source": "none of our numeric columns correlates with score, meaning that release timing doesn’t linearly relate to review score.",
   "metadata": {}
  },
  {
   "cell_type": "code",
   "source": "#show scores higher than 7\nscore_filter = reviews[\"score\"] > 7\nscore_filter",
   "execution_count": 18,
   "outputs": [],
   "metadata": {}
  },
  {
   "cell_type": "code",
   "source": "#select rows where reviews are higher than 7\nfiltered_reviews = reviews[score_filter]\nfiltered_reviews.head()",
   "execution_count": 19,
   "outputs": [],
   "metadata": {}
  },
  {
   "cell_type": "code",
   "source": "#select xbox games where reviews are higher than 7\nxbox_one_filter = (reviews[\"score\"] > 7) & (reviews[\"platform\"] == \"Xbox One\")\nfiltered_reviews = reviews[xbox_one_filter]\nfiltered_reviews.head()",
   "execution_count": 20,
   "outputs": [],
   "metadata": {}
  },
  {
   "cell_type": "code",
   "source": "#plot xbox one reviews\n%matplotlib inline\nreviews[reviews[\"platform\"] == \"Xbox One\"][\"score\"].plot(kind=\"hist\")",
   "execution_count": 21,
   "outputs": [],
   "metadata": {}
  },
  {
   "cell_type": "code",
   "source": "#plot PS4 reviews\nreviews[reviews[\"platform\"] == \"PlayStation 4\"][\"score\"].plot(kind=\"hist\")",
   "execution_count": 22,
   "outputs": [],
   "metadata": {}
  },
  {
   "cell_type": "markdown",
   "source": "PS4 has more top rated games",
   "metadata": {}
  },
  {
   "cell_type": "code",
   "source": "filtered_reviews[\"score\"].hist()",
   "execution_count": 23,
   "outputs": [],
   "metadata": {}
  },
  {
   "cell_type": "code",
   "source": "",
   "execution_count": null,
   "outputs": [],
   "metadata": {}
  },
  {
   "cell_type": "markdown",
   "source": "Acknowledgement Dataquest.io for their awesome code and tutorials used here",
   "metadata": {}
  },
  {
   "cell_type": "code",
   "source": "",
   "execution_count": null,
   "outputs": [],
   "metadata": {}
  }
 ]
}
